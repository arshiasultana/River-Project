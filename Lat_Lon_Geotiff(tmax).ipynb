{
 "cells": [
  {
   "cell_type": "code",
   "execution_count": 8,
   "metadata": {},
   "outputs": [],
   "source": [
    "#importing the required libraries\n",
    "import rasterio\n",
    "import numpy as np\n",
    "from affine import Affine\n",
    "from pyproj import Proj, transform"
   ]
  },
  {
   "cell_type": "code",
   "execution_count": 9,
   "metadata": {},
   "outputs": [],
   "source": [
    "fname = '/Users/ArshiaSultana/Desktop/PS_tmax_10.tif'\n"
   ]
  },
  {
   "cell_type": "code",
   "execution_count": 10,
   "metadata": {},
   "outputs": [],
   "source": [
    "# Read raster\n",
    "with rasterio.open(fname) as r:\n",
    "    T0 = r.transform  # upper-left pixel corner affine transform\n",
    "    p1 = Proj(r.crs)\n",
    "    A = r.read()  # pixel values\n"
   ]
  },
  {
   "cell_type": "code",
   "execution_count": 9,
   "metadata": {},
   "outputs": [
    {
     "name": "stdout",
     "output_type": "stream",
     "text": [
      "| 1000.00, 0.00, 2008250.00|\n",
      "| 0.00,-1000.00, 195500.00|\n",
      "| 0.00, 0.00, 1.00|\n"
     ]
    }
   ],
   "source": [
    "print(T0)"
   ]
  },
  {
   "cell_type": "code",
   "execution_count": 11,
   "metadata": {},
   "outputs": [
    {
     "name": "stdout",
     "output_type": "stream",
     "text": [
      "[[[-9999. -9999. -9999. ... -9999. -9999. -9999.]\n",
      "  [-9999. -9999. -9999. ... -9999. -9999. -9999.]\n",
      "  [-9999. -9999. -9999. ... -9999. -9999. -9999.]\n",
      "  ...\n",
      "  [-9999. -9999. -9999. ... -9999. -9999. -9999.]\n",
      "  [-9999. -9999. -9999. ... -9999. -9999. -9999.]\n",
      "  [-9999. -9999. -9999. ... -9999. -9999. -9999.]]\n",
      "\n",
      " [[-9999. -9999. -9999. ... -9999. -9999. -9999.]\n",
      "  [-9999. -9999. -9999. ... -9999. -9999. -9999.]\n",
      "  [-9999. -9999. -9999. ... -9999. -9999. -9999.]\n",
      "  ...\n",
      "  [-9999. -9999. -9999. ... -9999. -9999. -9999.]\n",
      "  [-9999. -9999. -9999. ... -9999. -9999. -9999.]\n",
      "  [-9999. -9999. -9999. ... -9999. -9999. -9999.]]\n",
      "\n",
      " [[-9999. -9999. -9999. ... -9999. -9999. -9999.]\n",
      "  [-9999. -9999. -9999. ... -9999. -9999. -9999.]\n",
      "  [-9999. -9999. -9999. ... -9999. -9999. -9999.]\n",
      "  ...\n",
      "  [-9999. -9999. -9999. ... -9999. -9999. -9999.]\n",
      "  [-9999. -9999. -9999. ... -9999. -9999. -9999.]\n",
      "  [-9999. -9999. -9999. ... -9999. -9999. -9999.]]\n",
      "\n",
      " ...\n",
      "\n",
      " [[-9999. -9999. -9999. ... -9999. -9999. -9999.]\n",
      "  [-9999. -9999. -9999. ... -9999. -9999. -9999.]\n",
      "  [-9999. -9999. -9999. ... -9999. -9999. -9999.]\n",
      "  ...\n",
      "  [-9999. -9999. -9999. ... -9999. -9999. -9999.]\n",
      "  [-9999. -9999. -9999. ... -9999. -9999. -9999.]\n",
      "  [-9999. -9999. -9999. ... -9999. -9999. -9999.]]\n",
      "\n",
      " [[-9999. -9999. -9999. ... -9999. -9999. -9999.]\n",
      "  [-9999. -9999. -9999. ... -9999. -9999. -9999.]\n",
      "  [-9999. -9999. -9999. ... -9999. -9999. -9999.]\n",
      "  ...\n",
      "  [-9999. -9999. -9999. ... -9999. -9999. -9999.]\n",
      "  [-9999. -9999. -9999. ... -9999. -9999. -9999.]\n",
      "  [-9999. -9999. -9999. ... -9999. -9999. -9999.]]\n",
      "\n",
      " [[-9999. -9999. -9999. ... -9999. -9999. -9999.]\n",
      "  [-9999. -9999. -9999. ... -9999. -9999. -9999.]\n",
      "  [-9999. -9999. -9999. ... -9999. -9999. -9999.]\n",
      "  ...\n",
      "  [-9999. -9999. -9999. ... -9999. -9999. -9999.]\n",
      "  [-9999. -9999. -9999. ... -9999. -9999. -9999.]\n",
      "  [-9999. -9999. -9999. ... -9999. -9999. -9999.]]]\n"
     ]
    }
   ],
   "source": [
    "print(A)"
   ]
  },
  {
   "cell_type": "code",
   "execution_count": 10,
   "metadata": {},
   "outputs": [
    {
     "name": "stdout",
     "output_type": "stream",
     "text": [
      "Proj('+proj=lcc +lat_0=42.5 +lon_0=-100 +lat_1=25 +lat_2=60 +x_0=0 +y_0=0 +ellps=WGS84 +units=m +no_defs', preserve_units=True)\n"
     ]
    }
   ],
   "source": [
    "print(p1)"
   ]
  },
  {
   "cell_type": "code",
   "execution_count": 11,
   "metadata": {},
   "outputs": [],
   "source": [
    "# All rows and columns\n",
    "cols, rows = np.meshgrid(np.arange(A.shape[2]), np.arange(A.shape[1]))"
   ]
  },
  {
   "cell_type": "code",
   "execution_count": 12,
   "metadata": {},
   "outputs": [
    {
     "name": "stdout",
     "output_type": "stream",
     "text": [
      "[[[-9999. -9999. -9999. ... -9999. -9999. -9999.]\n",
      "  [-9999. -9999. -9999. ... -9999. -9999. -9999.]\n",
      "  [-9999. -9999. -9999. ... -9999. -9999. -9999.]\n",
      "  ...\n",
      "  [-9999. -9999. -9999. ... -9999. -9999. -9999.]\n",
      "  [-9999. -9999. -9999. ... -9999. -9999. -9999.]\n",
      "  [-9999. -9999. -9999. ... -9999. -9999. -9999.]]\n",
      "\n",
      " [[-9999. -9999. -9999. ... -9999. -9999. -9999.]\n",
      "  [-9999. -9999. -9999. ... -9999. -9999. -9999.]\n",
      "  [-9999. -9999. -9999. ... -9999. -9999. -9999.]\n",
      "  ...\n",
      "  [-9999. -9999. -9999. ... -9999. -9999. -9999.]\n",
      "  [-9999. -9999. -9999. ... -9999. -9999. -9999.]\n",
      "  [-9999. -9999. -9999. ... -9999. -9999. -9999.]]\n",
      "\n",
      " [[-9999. -9999. -9999. ... -9999. -9999. -9999.]\n",
      "  [-9999. -9999. -9999. ... -9999. -9999. -9999.]\n",
      "  [-9999. -9999. -9999. ... -9999. -9999. -9999.]\n",
      "  ...\n",
      "  [-9999. -9999. -9999. ... -9999. -9999. -9999.]\n",
      "  [-9999. -9999. -9999. ... -9999. -9999. -9999.]\n",
      "  [-9999. -9999. -9999. ... -9999. -9999. -9999.]]\n",
      "\n",
      " ...\n",
      "\n",
      " [[-9999. -9999. -9999. ... -9999. -9999. -9999.]\n",
      "  [-9999. -9999. -9999. ... -9999. -9999. -9999.]\n",
      "  [-9999. -9999. -9999. ... -9999. -9999. -9999.]\n",
      "  ...\n",
      "  [-9999. -9999. -9999. ... -9999. -9999. -9999.]\n",
      "  [-9999. -9999. -9999. ... -9999. -9999. -9999.]\n",
      "  [-9999. -9999. -9999. ... -9999. -9999. -9999.]]\n",
      "\n",
      " [[-9999. -9999. -9999. ... -9999. -9999. -9999.]\n",
      "  [-9999. -9999. -9999. ... -9999. -9999. -9999.]\n",
      "  [-9999. -9999. -9999. ... -9999. -9999. -9999.]\n",
      "  ...\n",
      "  [-9999. -9999. -9999. ... -9999. -9999. -9999.]\n",
      "  [-9999. -9999. -9999. ... -9999. -9999. -9999.]\n",
      "  [-9999. -9999. -9999. ... -9999. -9999. -9999.]]\n",
      "\n",
      " [[-9999. -9999. -9999. ... -9999. -9999. -9999.]\n",
      "  [-9999. -9999. -9999. ... -9999. -9999. -9999.]\n",
      "  [-9999. -9999. -9999. ... -9999. -9999. -9999.]\n",
      "  ...\n",
      "  [-9999. -9999. -9999. ... -9999. -9999. -9999.]\n",
      "  [-9999. -9999. -9999. ... -9999. -9999. -9999.]\n",
      "  [-9999. -9999. -9999. ... -9999. -9999. -9999.]]]\n"
     ]
    }
   ],
   "source": [
    "print(A)"
   ]
  },
  {
   "cell_type": "code",
   "execution_count": 13,
   "metadata": {
    "scrolled": true
   },
   "outputs": [
    {
     "name": "stdout",
     "output_type": "stream",
     "text": [
      "[[ 0  1  2 ... 50 51 52]\n",
      " [ 0  1  2 ... 50 51 52]\n",
      " [ 0  1  2 ... 50 51 52]\n",
      " ...\n",
      " [ 0  1  2 ... 50 51 52]\n",
      " [ 0  1  2 ... 50 51 52]\n",
      " [ 0  1  2 ... 50 51 52]] [[ 0  0  0 ...  0  0  0]\n",
      " [ 1  1  1 ...  1  1  1]\n",
      " [ 2  2  2 ...  2  2  2]\n",
      " ...\n",
      " [80 80 80 ... 80 80 80]\n",
      " [81 81 81 ... 81 81 81]\n",
      " [82 82 82 ... 82 82 82]]\n"
     ]
    }
   ],
   "source": [
    "print(cols,rows)\n"
   ]
  },
  {
   "cell_type": "code",
   "execution_count": 14,
   "metadata": {},
   "outputs": [
    {
     "name": "stdout",
     "output_type": "stream",
     "text": [
      "[[ 0  1  2 ... 50 51 52]\n",
      " [ 0  1  2 ... 50 51 52]\n",
      " [ 0  1  2 ... 50 51 52]\n",
      " ...\n",
      " [ 0  1  2 ... 50 51 52]\n",
      " [ 0  1  2 ... 50 51 52]\n",
      " [ 0  1  2 ... 50 51 52]]\n"
     ]
    }
   ],
   "source": [
    "print(cols)"
   ]
  },
  {
   "cell_type": "code",
   "execution_count": 15,
   "metadata": {},
   "outputs": [
    {
     "name": "stdout",
     "output_type": "stream",
     "text": [
      "[[ 0  0  0 ...  0  0  0]\n",
      " [ 1  1  1 ...  1  1  1]\n",
      " [ 2  2  2 ...  2  2  2]\n",
      " ...\n",
      " [80 80 80 ... 80 80 80]\n",
      " [81 81 81 ... 81 81 81]\n",
      " [82 82 82 ... 82 82 82]]\n"
     ]
    }
   ],
   "source": [
    "print(rows)"
   ]
  },
  {
   "cell_type": "code",
   "execution_count": 16,
   "metadata": {},
   "outputs": [
    {
     "name": "stdout",
     "output_type": "stream",
     "text": [
      "| 1000.00, 0.00, 2008750.00|\n",
      "| 0.00,-1000.00, 195000.00|\n",
      "| 0.00, 0.00, 1.00|\n"
     ]
    }
   ],
   "source": [
    "# Get affine transform for pixel centres\n",
    "T1 = T0 * Affine.translation(0.5, 0.5)\n",
    "print(T1)"
   ]
  },
  {
   "cell_type": "code",
   "execution_count": 17,
   "metadata": {},
   "outputs": [],
   "source": [
    "# Function to convert pixel row/column index (from 0) to easting/northing at centre\n",
    "rc2en = lambda r, c: (c, r) * T1"
   ]
  },
  {
   "cell_type": "code",
   "execution_count": 18,
   "metadata": {},
   "outputs": [
    {
     "name": "stdout",
     "output_type": "stream",
     "text": [
      "<function <lambda> at 0x11e6f76a8>\n"
     ]
    }
   ],
   "source": [
    "print(rc2en)"
   ]
  },
  {
   "cell_type": "code",
   "execution_count": 19,
   "metadata": {},
   "outputs": [
    {
     "name": "stderr",
     "output_type": "stream",
     "text": [
      "/Users/ArshiaSultana/anaconda3/lib/python3.7/site-packages/ipykernel_launcher.py:2: DeprecationWarning: Right multiplication will be prohibited in version 3.0\n",
      "  \n"
     ]
    }
   ],
   "source": [
    "# All eastings and northings (there is probably a faster way to do this)\n",
    "eastings, northings = np.vectorize(rc2en, otypes=[np.float, np.float])(rows, cols)"
   ]
  },
  {
   "cell_type": "code",
   "execution_count": 20,
   "metadata": {},
   "outputs": [
    {
     "name": "stdout",
     "output_type": "stream",
     "text": [
      "[[2008750. 2009750. 2010750. ... 2058750. 2059750. 2060750.]\n",
      " [2008750. 2009750. 2010750. ... 2058750. 2059750. 2060750.]\n",
      " [2008750. 2009750. 2010750. ... 2058750. 2059750. 2060750.]\n",
      " ...\n",
      " [2008750. 2009750. 2010750. ... 2058750. 2059750. 2060750.]\n",
      " [2008750. 2009750. 2010750. ... 2058750. 2059750. 2060750.]\n",
      " [2008750. 2009750. 2010750. ... 2058750. 2059750. 2060750.]] [[195000. 195000. 195000. ... 195000. 195000. 195000.]\n",
      " [194000. 194000. 194000. ... 194000. 194000. 194000.]\n",
      " [193000. 193000. 193000. ... 193000. 193000. 193000.]\n",
      " ...\n",
      " [115000. 115000. 115000. ... 115000. 115000. 115000.]\n",
      " [114000. 114000. 114000. ... 114000. 114000. 114000.]\n",
      " [113000. 113000. 113000. ... 113000. 113000. 113000.]]\n"
     ]
    }
   ],
   "source": [
    "print(eastings, northings)"
   ]
  },
  {
   "cell_type": "code",
   "execution_count": 21,
   "metadata": {},
   "outputs": [],
   "source": [
    "# Project all longitudes, latitudes\n",
    "p2 = Proj(proj='latlong',datum='WGS84')\n",
    "longs,lats = transform(p1, p2, eastings, northings)"
   ]
  },
  {
   "cell_type": "code",
   "execution_count": 22,
   "metadata": {},
   "outputs": [
    {
     "name": "stdout",
     "output_type": "stream",
     "text": [
      "Proj('+proj=longlat +datum=WGS84 +no_defs', preserve_units=True)\n"
     ]
    }
   ],
   "source": [
    "print(p2)"
   ]
  },
  {
   "cell_type": "code",
   "execution_count": 23,
   "metadata": {},
   "outputs": [
    {
     "data": {
      "text/plain": [
       "8798"
      ]
     },
     "execution_count": 23,
     "metadata": {},
     "output_type": "execute_result"
    }
   ],
   "source": [
    "#storing longs,lats into an array\n",
    "a=longs,lats\n",
    "\n",
    "np.size(a)"
   ]
  },
  {
   "cell_type": "code",
   "execution_count": 24,
   "metadata": {},
   "outputs": [
    {
     "name": "stdout",
     "output_type": "stream",
     "text": [
      "(array([[-74.41777583, -74.40582467, -74.39387459, ..., -73.82155343,\n",
      "        -73.80965693, -73.79776153],\n",
      "       [-74.42156017, -74.40961054, -74.39766201, ..., -73.82541423,\n",
      "        -73.81351924, -73.80162536],\n",
      "       [-74.42534341, -74.41339533, -74.40144833, ..., -73.82927392,\n",
      "        -73.81738045, -73.80548809],\n",
      "       ...,\n",
      "       [-74.71713305, -74.70530404, -74.69347608, ..., -74.12697475,\n",
      "        -74.11519863, -74.10342357],\n",
      "       [-74.72083206, -74.70900456, -74.69717811, ..., -74.13074888,\n",
      "        -74.11897425, -74.10720068],\n",
      "       [-74.72453001, -74.71270402, -74.70087909, ..., -74.13452195,\n",
      "        -74.12274881, -74.11097673]]), array([[41.41001717, 41.40716713, 41.4043158 , ..., 41.26594383,\n",
      "        41.26302974, 41.26011437],\n",
      "       [41.40101942, 41.39816979, 41.39531889, ..., 41.25696724,\n",
      "        41.25405357, 41.25113863],\n",
      "       [41.39202157, 41.38917236, 41.38632188, ..., 41.24799055,\n",
      "        41.24507731, 41.2421628 ],\n",
      "       ...,\n",
      "       [40.68991777, 40.68710111, 40.68428317, ..., 40.54752996,\n",
      "        40.54464992, 40.54176862],\n",
      "       [40.68091325, 40.67809699, 40.67527947, ..., 40.5385464 ,\n",
      "        40.53566679, 40.53278592],\n",
      "       [40.67190864, 40.6690928 , 40.66627569, ..., 40.52956277,\n",
      "        40.52668359, 40.52380314]]))\n"
     ]
    }
   ],
   "source": [
    "print(a)"
   ]
  },
  {
   "cell_type": "code",
   "execution_count": 25,
   "metadata": {},
   "outputs": [
    {
     "data": {
      "text/plain": [
       "(2, 83, 53)"
      ]
     },
     "execution_count": 25,
     "metadata": {},
     "output_type": "execute_result"
    }
   ],
   "source": [
    "#shape of the array(2D)\n",
    "np.shape(a)"
   ]
  },
  {
   "cell_type": "code",
   "execution_count": 26,
   "metadata": {},
   "outputs": [
    {
     "data": {
      "text/plain": [
       "array([-74.41777583, -74.40582467, -74.39387459, ...,  40.52956277,\n",
       "        40.52668359,  40.52380314])"
      ]
     },
     "execution_count": 26,
     "metadata": {},
     "output_type": "execute_result"
    }
   ],
   "source": [
    "#reshaping the 2D array into 1D\n",
    "b=np.reshape(a,8798)\n",
    "b"
   ]
  },
  {
   "cell_type": "code",
   "execution_count": 27,
   "metadata": {},
   "outputs": [
    {
     "data": {
      "text/plain": [
       "(8798,)"
      ]
     },
     "execution_count": 27,
     "metadata": {},
     "output_type": "execute_result"
    }
   ],
   "source": [
    "#shape of array b(1D)\n",
    "np.shape(b)"
   ]
  },
  {
   "cell_type": "code",
   "execution_count": 28,
   "metadata": {},
   "outputs": [],
   "source": [
    "#c=np.array_split(b,2,axis=0)\n",
    "#np.shape(c)\n",
    "#print(c)"
   ]
  },
  {
   "cell_type": "code",
   "execution_count": 32,
   "metadata": {},
   "outputs": [
    {
     "data": {
      "text/html": [
       "<div>\n",
       "<style scoped>\n",
       "    .dataframe tbody tr th:only-of-type {\n",
       "        vertical-align: middle;\n",
       "    }\n",
       "\n",
       "    .dataframe tbody tr th {\n",
       "        vertical-align: top;\n",
       "    }\n",
       "\n",
       "    .dataframe thead th {\n",
       "        text-align: right;\n",
       "    }\n",
       "</style>\n",
       "<table border=\"1\" class=\"dataframe\">\n",
       "  <thead>\n",
       "    <tr style=\"text-align: right;\">\n",
       "      <th></th>\n",
       "      <th>LATITUDE</th>\n",
       "      <th>LONGITUDE</th>\n",
       "    </tr>\n",
       "  </thead>\n",
       "  <tbody>\n",
       "    <tr>\n",
       "      <th>0</th>\n",
       "      <td>41.410017</td>\n",
       "      <td>-74.417776</td>\n",
       "    </tr>\n",
       "    <tr>\n",
       "      <th>1</th>\n",
       "      <td>41.407167</td>\n",
       "      <td>-74.405825</td>\n",
       "    </tr>\n",
       "    <tr>\n",
       "      <th>2</th>\n",
       "      <td>41.404316</td>\n",
       "      <td>-74.393875</td>\n",
       "    </tr>\n",
       "    <tr>\n",
       "      <th>3</th>\n",
       "      <td>41.401463</td>\n",
       "      <td>-74.381926</td>\n",
       "    </tr>\n",
       "    <tr>\n",
       "      <th>4</th>\n",
       "      <td>41.398609</td>\n",
       "      <td>-74.369978</td>\n",
       "    </tr>\n",
       "  </tbody>\n",
       "</table>\n",
       "</div>"
      ],
      "text/plain": [
       "    LATITUDE  LONGITUDE\n",
       "0  41.410017 -74.417776\n",
       "1  41.407167 -74.405825\n",
       "2  41.404316 -74.393875\n",
       "3  41.401463 -74.381926\n",
       "4  41.398609 -74.369978"
      ]
     },
     "execution_count": 32,
     "metadata": {},
     "output_type": "execute_result"
    }
   ],
   "source": [
    "import pandas as pd\n",
    "#creating a dataframe from the array b\n",
    "#selecting first 4399 values for latitude and last 4399 values for longitude (indexing)\n",
    "dataset = pd.DataFrame({'LONGITUDE': b[:4399], 'LATITUDE': b[4399: ]})\n",
    "dataset = dataset[['LATITUDE','LONGITUDE']]\n",
    "dataset.head()\n"
   ]
  },
  {
   "cell_type": "code",
   "execution_count": 33,
   "metadata": {},
   "outputs": [],
   "source": [
    "#saving the dataframe to csv\n",
    "dataset.to_csv(\"Longitude and latitude_output.csv\")"
   ]
  }
 ],
 "metadata": {
  "kernelspec": {
   "display_name": "Python 3",
   "language": "python",
   "name": "python3"
  },
  "language_info": {
   "codemirror_mode": {
    "name": "ipython",
    "version": 3
   },
   "file_extension": ".py",
   "mimetype": "text/x-python",
   "name": "python",
   "nbconvert_exporter": "python",
   "pygments_lexer": "ipython3",
   "version": "3.7.3"
  }
 },
 "nbformat": 4,
 "nbformat_minor": 2
}
