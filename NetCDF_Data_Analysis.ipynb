{
 "cells": [
  {
   "cell_type": "code",
   "execution_count": 31,
   "metadata": {},
   "outputs": [],
   "source": [
    "#importing the xarray library in python for data processing\n",
    "import xarray as xr"
   ]
  },
  {
   "cell_type": "code",
   "execution_count": 34,
   "metadata": {},
   "outputs": [],
   "source": [
    "#importing and opening the dataset\n",
    "dataDIR = \"/Volumes/CHOTU DRIVE/daymet_v3_tmax_2010_na.nc\"\n",
    "DS = xr.open_dataset(dataDIR)"
   ]
  },
  {
   "cell_type": "markdown",
   "metadata": {},
   "source": [
    "DATA INSPECTION USING \"DS.var\" \"DS.dims\" \"DS.attrs\" \"DS.coords\" "
   ]
  },
  {
   "cell_type": "code",
   "execution_count": 35,
   "metadata": {},
   "outputs": [
    {
     "data": {
      "text/plain": [
       "<bound method ImplementsDatasetReduce._reduce_method.<locals>.wrapped_func of <xarray.Dataset>\n",
       "Dimensions:                  (nv: 2, time: 365, x: 7814, y: 8075)\n",
       "Coordinates:\n",
       "  * x                        (x) float32 -4560250.0 -4559250.0 ... 3252750.0\n",
       "  * y                        (y) float32 4984000.0 4983000.0 ... -3090000.0\n",
       "    lat                      (y, x) float32 ...\n",
       "    lon                      (y, x) float32 ...\n",
       "  * time                     (time) datetime64[ns] 2010-01-01T12:00:00 ... 2010-12-31T12:00:00\n",
       "Dimensions without coordinates: nv\n",
       "Data variables:\n",
       "    yearday                  (time) int16 ...\n",
       "    time_bnds                (time, nv) datetime64[ns] ...\n",
       "    lambert_conformal_conic  int16 ...\n",
       "    tmax                     (time, y, x) float32 ...\n",
       "Attributes:\n",
       "    start_year:        2010\n",
       "    source:            Daymet Software Version 3.0\n",
       "    Version_software:  Daymet Software Version 3.0\n",
       "    Version_data:      Daymet Data Version 3.0\n",
       "    Conventions:       CF-1.6\n",
       "    citation:          Please see http://daymet.ornl.gov/ for current Daymet ...\n",
       "    references:        Please see http://daymet.ornl.gov/ for current informa...>"
      ]
     },
     "execution_count": 35,
     "metadata": {},
     "output_type": "execute_result"
    }
   ],
   "source": [
    "DS.var"
   ]
  },
  {
   "cell_type": "code",
   "execution_count": 37,
   "metadata": {},
   "outputs": [
    {
     "data": {
      "text/plain": [
       "OrderedDict([('start_year', 2010),\n",
       "             ('source', 'Daymet Software Version 3.0'),\n",
       "             ('Version_software', 'Daymet Software Version 3.0'),\n",
       "             ('Version_data', 'Daymet Data Version 3.0'),\n",
       "             ('Conventions', 'CF-1.6'),\n",
       "             ('citation',\n",
       "              'Please see http://daymet.ornl.gov/ for current Daymet data citation information'),\n",
       "             ('references',\n",
       "              'Please see http://daymet.ornl.gov/ for current information on Daymet references')])"
      ]
     },
     "execution_count": 37,
     "metadata": {},
     "output_type": "execute_result"
    }
   ],
   "source": [
    "#meta data of dataset\n",
    "DS.attrs"
   ]
  },
  {
   "cell_type": "code",
   "execution_count": 38,
   "metadata": {},
   "outputs": [
    {
     "data": {
      "text/plain": [
       "Frozen(SortedKeysDict({'x': 7814, 'y': 8075, 'time': 365, 'nv': 2}))"
      ]
     },
     "execution_count": 38,
     "metadata": {},
     "output_type": "execute_result"
    }
   ],
   "source": [
    "#dimensions of the dataset\n",
    "DS.dims"
   ]
  },
  {
   "cell_type": "code",
   "execution_count": 39,
   "metadata": {},
   "outputs": [
    {
     "data": {
      "text/plain": [
       "Coordinates:\n",
       "  * x        (x) float32 -4560250.0 -4559250.0 ... 3251750.0 3252750.0\n",
       "  * y        (y) float32 4984000.0 4983000.0 4982000.0 ... -3089000.0 -3090000.0\n",
       "    lat      (y, x) float32 ...\n",
       "    lon      (y, x) float32 ...\n",
       "  * time     (time) datetime64[ns] 2010-01-01T12:00:00 ... 2010-12-31T12:00:00"
      ]
     },
     "execution_count": 39,
     "metadata": {},
     "output_type": "execute_result"
    }
   ],
   "source": [
    "#coordinates of the dataset\n",
    "DS.coords"
   ]
  },
  {
   "cell_type": "code",
   "execution_count": 41,
   "metadata": {},
   "outputs": [
    {
     "data": {
      "text/plain": [
       "<xarray.DataArray 'lat' (y: 8075, x: 7814)>\n",
       "[63098050 values with dtype=float32]\n",
       "Coordinates:\n",
       "  * x        (x) float32 -4560250.0 -4559250.0 ... 3251750.0 3252750.0\n",
       "  * y        (y) float32 4984000.0 4983000.0 4982000.0 ... -3089000.0 -3090000.0\n",
       "    lat      (y, x) float32 ...\n",
       "    lon      (y, x) float32 ...\n",
       "Attributes:\n",
       "    units:          degrees_north\n",
       "    long_name:      latitude coordinate\n",
       "    standard_name:  latitude"
      ]
     },
     "execution_count": 41,
     "metadata": {},
     "output_type": "execute_result"
    }
   ],
   "source": [
    "DS.lat"
   ]
  },
  {
   "cell_type": "code",
   "execution_count": 40,
   "metadata": {},
   "outputs": [
    {
     "data": {
      "text/plain": [
       "<xarray.DataArray 'lon' (y: 8075, x: 7814)>\n",
       "[63098050 values with dtype=float32]\n",
       "Coordinates:\n",
       "  * x        (x) float32 -4560250.0 -4559250.0 ... 3251750.0 3252750.0\n",
       "  * y        (y) float32 4984000.0 4983000.0 4982000.0 ... -3089000.0 -3090000.0\n",
       "    lat      (y, x) float32 ...\n",
       "    lon      (y, x) float32 ...\n",
       "Attributes:\n",
       "    units:          degrees_east\n",
       "    long_name:      longitude coordinate\n",
       "    standard_name:  longitude"
      ]
     },
     "execution_count": 40,
     "metadata": {},
     "output_type": "execute_result"
    }
   ],
   "source": [
    "DS.lon"
   ]
  },
  {
   "cell_type": "code",
   "execution_count": 10,
   "metadata": {},
   "outputs": [],
   "source": [
    "#Extracting data array for one day from the dataset by slicing the array \n",
    "da = DS.sel(time=slice('2010-01-01', '2010-01-01'))"
   ]
  },
  {
   "cell_type": "code",
   "execution_count": 42,
   "metadata": {},
   "outputs": [
    {
     "data": {
      "text/plain": [
       "<xarray.DataArray 'lat' (y: 8075, x: 7814)>\n",
       "array([[58.527702, 58.536274, 58.54484 , ..., 69.09396 , 69.08651 , 69.07905 ],\n",
       "       [58.52478 , 58.533348, 58.54192 , ..., 69.0904  , 69.08294 , 69.07548 ],\n",
       "       [58.521854, 58.530426, 58.538994, ..., 69.08683 , 69.07937 , 69.071915],\n",
       "       ...,\n",
       "       [ 6.095551,  6.098907,  6.102262, ..., 10.021997, 10.019393, 10.016788],\n",
       "       [ 6.088467,  6.091822,  6.095177, ..., 10.014288, 10.011684, 10.00908 ],\n",
       "       [ 6.081384,  6.084738,  6.088092, ..., 10.006578, 10.003976, 10.001372]],\n",
       "      dtype=float32)\n",
       "Coordinates:\n",
       "  * x        (x) float32 -4560250.0 -4559250.0 ... 3251750.0 3252750.0\n",
       "  * y        (y) float32 4984000.0 4983000.0 4982000.0 ... -3089000.0 -3090000.0\n",
       "    lat      (y, x) float32 58.527702 58.536274 58.54484 ... 10.003976 10.001372\n",
       "    lon      (y, x) float32 156.37123 156.37682 ... -72.831505 -72.82372\n",
       "Attributes:\n",
       "    units:          degrees_north\n",
       "    long_name:      latitude coordinate\n",
       "    standard_name:  latitude"
      ]
     },
     "execution_count": 42,
     "metadata": {},
     "output_type": "execute_result"
    }
   ],
   "source": [
    "#latitude in the sliced array\n",
    "da.lat"
   ]
  },
  {
   "cell_type": "code",
   "execution_count": 43,
   "metadata": {},
   "outputs": [
    {
     "data": {
      "text/plain": [
       "<xarray.DataArray 'lon' (y: 8075, x: 7814)>\n",
       "array([[ 156.37123 ,  156.37682 ,  156.38242 , ...,   -6.172987,   -6.163004,\n",
       "          -6.153027],\n",
       "       [ 156.38762 ,  156.39322 ,  156.3988  , ...,   -6.193871,   -6.183884,\n",
       "          -6.173902],\n",
       "       [ 156.404   ,  156.4096  ,  156.41519 , ...,   -6.214749,   -6.204759,\n",
       "          -6.194773],\n",
       "       ...,\n",
       "       [-136.90382 , -136.89676 , -136.88968 , ...,  -72.83402 ,  -72.82625 ,\n",
       "         -72.818474],\n",
       "       [-136.90048 , -136.8934  , -136.88632 , ...,  -72.836655,  -72.82887 ,\n",
       "         -72.8211  ],\n",
       "       [-136.89713 , -136.89005 , -136.88297 , ...,  -72.83928 ,  -72.831505,\n",
       "         -72.82372 ]], dtype=float32)\n",
       "Coordinates:\n",
       "  * x        (x) float32 -4560250.0 -4559250.0 ... 3251750.0 3252750.0\n",
       "  * y        (y) float32 4984000.0 4983000.0 4982000.0 ... -3089000.0 -3090000.0\n",
       "    lat      (y, x) float32 58.527702 58.536274 58.54484 ... 10.003976 10.001372\n",
       "    lon      (y, x) float32 156.37123 156.37682 ... -72.831505 -72.82372\n",
       "Attributes:\n",
       "    units:          degrees_east\n",
       "    long_name:      longitude coordinate\n",
       "    standard_name:  longitude"
      ]
     },
     "execution_count": 43,
     "metadata": {},
     "output_type": "execute_result"
    }
   ],
   "source": [
    "#longitude in the sliced array\n",
    "da.lon"
   ]
  },
  {
   "cell_type": "code",
   "execution_count": 44,
   "metadata": {},
   "outputs": [
    {
     "data": {
      "text/plain": [
       "<xarray.DataArray 'tmax' (time: 1, y: 8075, x: 7814)>\n",
       "array([[[nan, nan, ..., nan, nan],\n",
       "        [nan, nan, ..., nan, nan],\n",
       "        ...,\n",
       "        [nan, nan, ..., nan, nan],\n",
       "        [nan, nan, ..., nan, nan]]], dtype=float32)\n",
       "Coordinates:\n",
       "  * x        (x) float32 -4560250.0 -4559250.0 ... 3251750.0 3252750.0\n",
       "  * y        (y) float32 4984000.0 4983000.0 4982000.0 ... -3089000.0 -3090000.0\n",
       "    lat      (y, x) float32 58.527702 58.536274 58.54484 ... 10.003976 10.001372\n",
       "    lon      (y, x) float32 156.37123 156.37682 ... -72.831505 -72.82372\n",
       "  * time     (time) datetime64[ns] 2010-01-01T12:00:00\n",
       "Attributes:\n",
       "    long_name:     daily maximum temperature\n",
       "    units:         degrees C\n",
       "    grid_mapping:  lambert_conformal_conic\n",
       "    cell_methods:  area: mean time: maximum"
      ]
     },
     "execution_count": 44,
     "metadata": {},
     "output_type": "execute_result"
    }
   ],
   "source": [
    "#max temperature in the sliced array\n",
    "da.tmax"
   ]
  },
  {
   "cell_type": "code",
   "execution_count": 22,
   "metadata": {},
   "outputs": [
    {
     "data": {
      "text/plain": [
       "(1, 8075, 7814)"
      ]
     },
     "execution_count": 22,
     "metadata": {},
     "output_type": "execute_result"
    }
   ],
   "source": [
    "da.tmax.values.shape"
   ]
  },
  {
   "cell_type": "code",
   "execution_count": 45,
   "metadata": {},
   "outputs": [
    {
     "data": {
      "text/plain": [
       "Data variables:\n",
       "    yearday                  (time) int16 0\n",
       "    time_bnds                (time, nv) datetime64[ns] 2010-01-01 2010-01-02\n",
       "    lambert_conformal_conic  int16 -32767\n",
       "    tmax                     (time, y, x) float32 nan nan nan ... nan nan nan"
      ]
     },
     "execution_count": 45,
     "metadata": {},
     "output_type": "execute_result"
    }
   ],
   "source": [
    "#data variables in data array\n",
    "da.data_vars"
   ]
  },
  {
   "cell_type": "code",
   "execution_count": 14,
   "metadata": {},
   "outputs": [],
   "source": [
    "#converting the data array to dataframe\n",
    "df = da.to_dataframe()"
   ]
  },
  {
   "cell_type": "code",
   "execution_count": 24,
   "metadata": {},
   "outputs": [
    {
     "data": {
      "text/html": [
       "<div>\n",
       "<style scoped>\n",
       "    .dataframe tbody tr th:only-of-type {\n",
       "        vertical-align: middle;\n",
       "    }\n",
       "\n",
       "    .dataframe tbody tr th {\n",
       "        vertical-align: top;\n",
       "    }\n",
       "\n",
       "    .dataframe thead th {\n",
       "        text-align: right;\n",
       "    }\n",
       "</style>\n",
       "<table border=\"1\" class=\"dataframe\">\n",
       "  <thead>\n",
       "    <tr style=\"text-align: right;\">\n",
       "      <th></th>\n",
       "      <th></th>\n",
       "      <th></th>\n",
       "      <th></th>\n",
       "      <th>lat</th>\n",
       "      <th>lon</th>\n",
       "      <th>yearday</th>\n",
       "      <th>time_bnds</th>\n",
       "      <th>lambert_conformal_conic</th>\n",
       "      <th>tmax</th>\n",
       "    </tr>\n",
       "    <tr>\n",
       "      <th>nv</th>\n",
       "      <th>time</th>\n",
       "      <th>x</th>\n",
       "      <th>y</th>\n",
       "      <th></th>\n",
       "      <th></th>\n",
       "      <th></th>\n",
       "      <th></th>\n",
       "      <th></th>\n",
       "      <th></th>\n",
       "    </tr>\n",
       "  </thead>\n",
       "  <tbody>\n",
       "    <tr>\n",
       "      <th rowspan=\"10\" valign=\"top\">0</th>\n",
       "      <th rowspan=\"10\" valign=\"top\">2010-01-01 12:00:00</th>\n",
       "      <th rowspan=\"10\" valign=\"top\">-4560250.0</th>\n",
       "      <th>4984000.0</th>\n",
       "      <td>58.527702</td>\n",
       "      <td>156.371231</td>\n",
       "      <td>0</td>\n",
       "      <td>2010-01-01</td>\n",
       "      <td>-32767</td>\n",
       "      <td>NaN</td>\n",
       "    </tr>\n",
       "    <tr>\n",
       "      <th>4983000.0</th>\n",
       "      <td>58.524780</td>\n",
       "      <td>156.387619</td>\n",
       "      <td>0</td>\n",
       "      <td>2010-01-01</td>\n",
       "      <td>-32767</td>\n",
       "      <td>NaN</td>\n",
       "    </tr>\n",
       "    <tr>\n",
       "      <th>4982000.0</th>\n",
       "      <td>58.521854</td>\n",
       "      <td>156.404007</td>\n",
       "      <td>0</td>\n",
       "      <td>2010-01-01</td>\n",
       "      <td>-32767</td>\n",
       "      <td>NaN</td>\n",
       "    </tr>\n",
       "    <tr>\n",
       "      <th>4981000.0</th>\n",
       "      <td>58.518929</td>\n",
       "      <td>156.420395</td>\n",
       "      <td>0</td>\n",
       "      <td>2010-01-01</td>\n",
       "      <td>-32767</td>\n",
       "      <td>NaN</td>\n",
       "    </tr>\n",
       "    <tr>\n",
       "      <th>4980000.0</th>\n",
       "      <td>58.516003</td>\n",
       "      <td>156.436768</td>\n",
       "      <td>0</td>\n",
       "      <td>2010-01-01</td>\n",
       "      <td>-32767</td>\n",
       "      <td>NaN</td>\n",
       "    </tr>\n",
       "    <tr>\n",
       "      <th>4979000.0</th>\n",
       "      <td>58.513073</td>\n",
       "      <td>156.453156</td>\n",
       "      <td>0</td>\n",
       "      <td>2010-01-01</td>\n",
       "      <td>-32767</td>\n",
       "      <td>NaN</td>\n",
       "    </tr>\n",
       "    <tr>\n",
       "      <th>4978000.0</th>\n",
       "      <td>58.510143</td>\n",
       "      <td>156.469528</td>\n",
       "      <td>0</td>\n",
       "      <td>2010-01-01</td>\n",
       "      <td>-32767</td>\n",
       "      <td>NaN</td>\n",
       "    </tr>\n",
       "    <tr>\n",
       "      <th>4977000.0</th>\n",
       "      <td>58.507210</td>\n",
       "      <td>156.485901</td>\n",
       "      <td>0</td>\n",
       "      <td>2010-01-01</td>\n",
       "      <td>-32767</td>\n",
       "      <td>NaN</td>\n",
       "    </tr>\n",
       "    <tr>\n",
       "      <th>4976000.0</th>\n",
       "      <td>58.504276</td>\n",
       "      <td>156.502274</td>\n",
       "      <td>0</td>\n",
       "      <td>2010-01-01</td>\n",
       "      <td>-32767</td>\n",
       "      <td>NaN</td>\n",
       "    </tr>\n",
       "    <tr>\n",
       "      <th>4975000.0</th>\n",
       "      <td>58.501339</td>\n",
       "      <td>156.518646</td>\n",
       "      <td>0</td>\n",
       "      <td>2010-01-01</td>\n",
       "      <td>-32767</td>\n",
       "      <td>NaN</td>\n",
       "    </tr>\n",
       "  </tbody>\n",
       "</table>\n",
       "</div>"
      ],
      "text/plain": [
       "                                                   lat         lon  yearday  \\\n",
       "nv time                x          y                                           \n",
       "0  2010-01-01 12:00:00 -4560250.0 4984000.0  58.527702  156.371231        0   \n",
       "                                  4983000.0  58.524780  156.387619        0   \n",
       "                                  4982000.0  58.521854  156.404007        0   \n",
       "                                  4981000.0  58.518929  156.420395        0   \n",
       "                                  4980000.0  58.516003  156.436768        0   \n",
       "                                  4979000.0  58.513073  156.453156        0   \n",
       "                                  4978000.0  58.510143  156.469528        0   \n",
       "                                  4977000.0  58.507210  156.485901        0   \n",
       "                                  4976000.0  58.504276  156.502274        0   \n",
       "                                  4975000.0  58.501339  156.518646        0   \n",
       "\n",
       "                                             time_bnds  \\\n",
       "nv time                x          y                      \n",
       "0  2010-01-01 12:00:00 -4560250.0 4984000.0 2010-01-01   \n",
       "                                  4983000.0 2010-01-01   \n",
       "                                  4982000.0 2010-01-01   \n",
       "                                  4981000.0 2010-01-01   \n",
       "                                  4980000.0 2010-01-01   \n",
       "                                  4979000.0 2010-01-01   \n",
       "                                  4978000.0 2010-01-01   \n",
       "                                  4977000.0 2010-01-01   \n",
       "                                  4976000.0 2010-01-01   \n",
       "                                  4975000.0 2010-01-01   \n",
       "\n",
       "                                             lambert_conformal_conic  tmax  \n",
       "nv time                x          y                                         \n",
       "0  2010-01-01 12:00:00 -4560250.0 4984000.0                   -32767   NaN  \n",
       "                                  4983000.0                   -32767   NaN  \n",
       "                                  4982000.0                   -32767   NaN  \n",
       "                                  4981000.0                   -32767   NaN  \n",
       "                                  4980000.0                   -32767   NaN  \n",
       "                                  4979000.0                   -32767   NaN  \n",
       "                                  4978000.0                   -32767   NaN  \n",
       "                                  4977000.0                   -32767   NaN  \n",
       "                                  4976000.0                   -32767   NaN  \n",
       "                                  4975000.0                   -32767   NaN  "
      ]
     },
     "execution_count": 24,
     "metadata": {},
     "output_type": "execute_result"
    }
   ],
   "source": [
    "df.head(10)"
   ]
  },
  {
   "cell_type": "code",
   "execution_count": 16,
   "metadata": {},
   "outputs": [
    {
     "data": {
      "text/plain": [
       "<bound method NDFrame.describe of                                                     lat         lon  yearday  \\\n",
       "nv time                x          y                                            \n",
       "0  2010-01-01 12:00:00 -4560250.0  4984000.0  58.527702  156.371231        0   \n",
       "                                   4983000.0  58.524780  156.387619        0   \n",
       "                                   4982000.0  58.521854  156.404007        0   \n",
       "                                   4981000.0  58.518929  156.420395        0   \n",
       "                                   4980000.0  58.516003  156.436768        0   \n",
       "                                   4979000.0  58.513073  156.453156        0   \n",
       "                                   4978000.0  58.510143  156.469528        0   \n",
       "                                   4977000.0  58.507210  156.485901        0   \n",
       "                                   4976000.0  58.504276  156.502274        0   \n",
       "                                   4975000.0  58.501339  156.518646        0   \n",
       "                                   4974000.0  58.498402  156.535004        0   \n",
       "                                   4973000.0  58.495461  156.551376        0   \n",
       "                                   4972000.0  58.492519  156.567734        0   \n",
       "                                   4971000.0  58.489578  156.584091        0   \n",
       "                                   4970000.0  58.486633  156.600449        0   \n",
       "                                   4969000.0  58.483688  156.616806        0   \n",
       "                                   4968000.0  58.480740  156.633163        0   \n",
       "                                   4967000.0  58.477791  156.649521        0   \n",
       "                                   4966000.0  58.474838  156.665863        0   \n",
       "                                   4965000.0  58.471886  156.682220        0   \n",
       "                                   4964000.0  58.468929  156.698563        0   \n",
       "                                   4963000.0  58.465973  156.714905        0   \n",
       "                                   4962000.0  58.463013  156.731247        0   \n",
       "                                   4961000.0  58.460052  156.747589        0   \n",
       "                                   4960000.0  58.457092  156.763916        0   \n",
       "                                   4959000.0  58.454128  156.780258        0   \n",
       "                                   4958000.0  58.451164  156.796585        0   \n",
       "                                   4957000.0  58.448196  156.812912        0   \n",
       "                                   4956000.0  58.445229  156.829239        0   \n",
       "                                   4955000.0  58.442257  156.845566        0   \n",
       "...                                                 ...         ...      ...   \n",
       "1  2010-01-01 12:00:00  3252750.0 -3061000.0  10.225092  -72.747337        0   \n",
       "                                  -3062000.0  10.217371  -72.749977        0   \n",
       "                                  -3063000.0  10.209651  -72.752617        0   \n",
       "                                  -3064000.0  10.201931  -72.755257        0   \n",
       "                                  -3065000.0  10.194212  -72.757896        0   \n",
       "                                  -3066000.0  10.186493  -72.760536        0   \n",
       "                                  -3067000.0  10.178774  -72.763176        0   \n",
       "                                  -3068000.0  10.171056  -72.765808        0   \n",
       "                                  -3069000.0  10.163339  -72.768448        0   \n",
       "                                  -3070000.0  10.155622  -72.771088        0   \n",
       "                                  -3071000.0  10.147904  -72.773720        0   \n",
       "                                  -3072000.0  10.140188  -72.776360        0   \n",
       "                                  -3073000.0  10.132472  -72.778992        0   \n",
       "                                  -3074000.0  10.124757  -72.781631        0   \n",
       "                                  -3075000.0  10.117042  -72.784264        0   \n",
       "                                  -3076000.0  10.109327  -72.786896        0   \n",
       "                                  -3077000.0  10.101613  -72.789536        0   \n",
       "                                  -3078000.0  10.093900  -72.792168        0   \n",
       "                                  -3079000.0  10.086186  -72.794800        0   \n",
       "                                  -3080000.0  10.078474  -72.797432        0   \n",
       "                                  -3081000.0  10.070762  -72.800064        0   \n",
       "                                  -3082000.0  10.063050  -72.802696        0   \n",
       "                                  -3083000.0  10.055339  -72.805321        0   \n",
       "                                  -3084000.0  10.047627  -72.807953        0   \n",
       "                                  -3085000.0  10.039917  -72.810585        0   \n",
       "                                  -3086000.0  10.032207  -72.813217        0   \n",
       "                                  -3087000.0  10.024498  -72.815842        0   \n",
       "                                  -3088000.0  10.016788  -72.818474        0   \n",
       "                                  -3089000.0  10.009080  -72.821098        0   \n",
       "                                  -3090000.0  10.001372  -72.823723        0   \n",
       "\n",
       "                                              time_bnds  \\\n",
       "nv time                x          y                       \n",
       "0  2010-01-01 12:00:00 -4560250.0  4984000.0 2010-01-01   \n",
       "                                   4983000.0 2010-01-01   \n",
       "                                   4982000.0 2010-01-01   \n",
       "                                   4981000.0 2010-01-01   \n",
       "                                   4980000.0 2010-01-01   \n",
       "                                   4979000.0 2010-01-01   \n",
       "                                   4978000.0 2010-01-01   \n",
       "                                   4977000.0 2010-01-01   \n",
       "                                   4976000.0 2010-01-01   \n",
       "                                   4975000.0 2010-01-01   \n",
       "                                   4974000.0 2010-01-01   \n",
       "                                   4973000.0 2010-01-01   \n",
       "                                   4972000.0 2010-01-01   \n",
       "                                   4971000.0 2010-01-01   \n",
       "                                   4970000.0 2010-01-01   \n",
       "                                   4969000.0 2010-01-01   \n",
       "                                   4968000.0 2010-01-01   \n",
       "                                   4967000.0 2010-01-01   \n",
       "                                   4966000.0 2010-01-01   \n",
       "                                   4965000.0 2010-01-01   \n",
       "                                   4964000.0 2010-01-01   \n",
       "                                   4963000.0 2010-01-01   \n",
       "                                   4962000.0 2010-01-01   \n",
       "                                   4961000.0 2010-01-01   \n",
       "                                   4960000.0 2010-01-01   \n",
       "                                   4959000.0 2010-01-01   \n",
       "                                   4958000.0 2010-01-01   \n",
       "                                   4957000.0 2010-01-01   \n",
       "                                   4956000.0 2010-01-01   \n",
       "                                   4955000.0 2010-01-01   \n",
       "...                                                 ...   \n",
       "1  2010-01-01 12:00:00  3252750.0 -3061000.0 2010-01-02   \n",
       "                                  -3062000.0 2010-01-02   \n",
       "                                  -3063000.0 2010-01-02   \n",
       "                                  -3064000.0 2010-01-02   \n",
       "                                  -3065000.0 2010-01-02   \n",
       "                                  -3066000.0 2010-01-02   \n",
       "                                  -3067000.0 2010-01-02   \n",
       "                                  -3068000.0 2010-01-02   \n",
       "                                  -3069000.0 2010-01-02   \n",
       "                                  -3070000.0 2010-01-02   \n",
       "                                  -3071000.0 2010-01-02   \n",
       "                                  -3072000.0 2010-01-02   \n",
       "                                  -3073000.0 2010-01-02   \n",
       "                                  -3074000.0 2010-01-02   \n",
       "                                  -3075000.0 2010-01-02   \n",
       "                                  -3076000.0 2010-01-02   \n",
       "                                  -3077000.0 2010-01-02   \n",
       "                                  -3078000.0 2010-01-02   \n",
       "                                  -3079000.0 2010-01-02   \n",
       "                                  -3080000.0 2010-01-02   \n",
       "                                  -3081000.0 2010-01-02   \n",
       "                                  -3082000.0 2010-01-02   \n",
       "                                  -3083000.0 2010-01-02   \n",
       "                                  -3084000.0 2010-01-02   \n",
       "                                  -3085000.0 2010-01-02   \n",
       "                                  -3086000.0 2010-01-02   \n",
       "                                  -3087000.0 2010-01-02   \n",
       "                                  -3088000.0 2010-01-02   \n",
       "                                  -3089000.0 2010-01-02   \n",
       "                                  -3090000.0 2010-01-02   \n",
       "\n",
       "                                              lambert_conformal_conic  tmax  \n",
       "nv time                x          y                                          \n",
       "0  2010-01-01 12:00:00 -4560250.0  4984000.0                   -32767   NaN  \n",
       "                                   4983000.0                   -32767   NaN  \n",
       "                                   4982000.0                   -32767   NaN  \n",
       "                                   4981000.0                   -32767   NaN  \n",
       "                                   4980000.0                   -32767   NaN  \n",
       "                                   4979000.0                   -32767   NaN  \n",
       "                                   4978000.0                   -32767   NaN  \n",
       "                                   4977000.0                   -32767   NaN  \n",
       "                                   4976000.0                   -32767   NaN  \n",
       "                                   4975000.0                   -32767   NaN  \n",
       "                                   4974000.0                   -32767   NaN  \n",
       "                                   4973000.0                   -32767   NaN  \n",
       "                                   4972000.0                   -32767   NaN  \n",
       "                                   4971000.0                   -32767   NaN  \n",
       "                                   4970000.0                   -32767   NaN  \n",
       "                                   4969000.0                   -32767   NaN  \n",
       "                                   4968000.0                   -32767   NaN  \n",
       "                                   4967000.0                   -32767   NaN  \n",
       "                                   4966000.0                   -32767   NaN  \n",
       "                                   4965000.0                   -32767   NaN  \n",
       "                                   4964000.0                   -32767   NaN  \n",
       "                                   4963000.0                   -32767   NaN  \n",
       "                                   4962000.0                   -32767   NaN  \n",
       "                                   4961000.0                   -32767   NaN  \n",
       "                                   4960000.0                   -32767   NaN  \n",
       "                                   4959000.0                   -32767   NaN  \n",
       "                                   4958000.0                   -32767   NaN  \n",
       "                                   4957000.0                   -32767   NaN  \n",
       "                                   4956000.0                   -32767   NaN  \n",
       "                                   4955000.0                   -32767   NaN  \n",
       "...                                                               ...   ...  \n",
       "1  2010-01-01 12:00:00  3252750.0 -3061000.0                   -32767   NaN  \n",
       "                                  -3062000.0                   -32767   NaN  \n",
       "                                  -3063000.0                   -32767   NaN  \n",
       "                                  -3064000.0                   -32767   NaN  \n",
       "                                  -3065000.0                   -32767   NaN  \n",
       "                                  -3066000.0                   -32767   NaN  \n",
       "                                  -3067000.0                   -32767   NaN  \n",
       "                                  -3068000.0                   -32767   NaN  \n",
       "                                  -3069000.0                   -32767   NaN  \n",
       "                                  -3070000.0                   -32767   NaN  \n",
       "                                  -3071000.0                   -32767   NaN  \n",
       "                                  -3072000.0                   -32767   NaN  \n",
       "                                  -3073000.0                   -32767   NaN  \n",
       "                                  -3074000.0                   -32767   NaN  \n",
       "                                  -3075000.0                   -32767   NaN  \n",
       "                                  -3076000.0                   -32767   NaN  \n",
       "                                  -3077000.0                   -32767   NaN  \n",
       "                                  -3078000.0                   -32767   NaN  \n",
       "                                  -3079000.0                   -32767   NaN  \n",
       "                                  -3080000.0                   -32767   NaN  \n",
       "                                  -3081000.0                   -32767   NaN  \n",
       "                                  -3082000.0                   -32767   NaN  \n",
       "                                  -3083000.0                   -32767   NaN  \n",
       "                                  -3084000.0                   -32767   NaN  \n",
       "                                  -3085000.0                   -32767   NaN  \n",
       "                                  -3086000.0                   -32767   NaN  \n",
       "                                  -3087000.0                   -32767   NaN  \n",
       "                                  -3088000.0                   -32767   NaN  \n",
       "                                  -3089000.0                   -32767   NaN  \n",
       "                                  -3090000.0                   -32767   NaN  \n",
       "\n",
       "[126196100 rows x 6 columns]>"
      ]
     },
     "execution_count": 16,
     "metadata": {},
     "output_type": "execute_result"
    }
   ],
   "source": [
    "df.describe"
   ]
  },
  {
   "cell_type": "code",
   "execution_count": 25,
   "metadata": {},
   "outputs": [],
   "source": [
    "#saving the df to csv\n",
    "df.head(100).to_csv('netcdf_first_100_records.csv')\n",
    "\n",
    "#The csv file for the first 100 records has many null values. \n"
   ]
  },
  {
   "cell_type": "code",
   "execution_count": 26,
   "metadata": {},
   "outputs": [],
   "source": [
    "#dropping the null values in the data frame\n",
    "df_no_nulls = df.dropna()"
   ]
  },
  {
   "cell_type": "code",
   "execution_count": 29,
   "metadata": {},
   "outputs": [
    {
     "data": {
      "text/plain": [
       "<bound method DataFrame.count of                                                    lat         lon  yearday  \\\n",
       "nv time                x          y                                           \n",
       "0  2010-01-01 12:00:00 -4560250.0 3268000.0  51.216503 -179.134048        0   \n",
       "                                  3267000.0  51.211063 -179.121979        0   \n",
       "                       -4559250.0 3270000.0  51.234970 -179.149551        0   \n",
       "                                  3269000.0  51.229530 -179.137466        0   \n",
       "                                  3268000.0  51.224091 -179.125397        0   \n",
       "                                  3267000.0  51.218647 -179.113312        0   \n",
       "                                  3266000.0  51.213207 -179.101242        0   \n",
       "                       -4558250.0 3270000.0  51.242558 -179.140900        0   \n",
       "                                  3269000.0  51.237118 -179.128815        0   \n",
       "                                  3268000.0  51.231674 -179.116730        0   \n",
       "                                  3267000.0  51.226234 -179.104645        0   \n",
       "                       -4557250.0 3271000.0  51.255581 -179.144318        0   \n",
       "                                  3270000.0  51.250141 -179.132233        0   \n",
       "                                  3269000.0  51.244701 -179.120148        0   \n",
       "                                  3268000.0  51.239262 -179.108063        0   \n",
       "                                  3267000.0  51.233818 -179.095978        0   \n",
       "                                  3266000.0  51.228374 -179.083893        0   \n",
       "                       -4556250.0 3273000.0  51.274044 -179.159836        0   \n",
       "                                  3272000.0  51.268608 -179.147736        0   \n",
       "                                  3271000.0  51.263168 -179.135651        0   \n",
       "                                  3270000.0  51.257729 -179.123550        0   \n",
       "                                  3269000.0  51.252285 -179.111465        0   \n",
       "                                  3268000.0  51.246845 -179.099380        0   \n",
       "                                  3267000.0  51.241402 -179.087311        0   \n",
       "                                  3266000.0  51.235954 -179.075226        0   \n",
       "                       -4555250.0 3273000.0  51.281631 -179.151169        0   \n",
       "                                  3272000.0  51.276192 -179.139069        0   \n",
       "                                  3271000.0  51.270752 -179.126968        0   \n",
       "                                  3270000.0  51.265312 -179.114883        0   \n",
       "                                  3269000.0  51.259869 -179.102798        0   \n",
       "...                                                ...         ...      ...   \n",
       "1  2010-01-01 12:00:00  3250750.0 1382000.0  46.677448  -53.078064        0   \n",
       "                                  1381000.0  46.669483  -53.085361        0   \n",
       "                                  1380000.0  46.661514  -53.092655        0   \n",
       "                                  1379000.0  46.653545  -53.099949        0   \n",
       "                                  1378000.0  46.645573  -53.107239        0   \n",
       "                                  1377000.0  46.637604  -53.114529        0   \n",
       "                                  1376000.0  46.629635  -53.121819        0   \n",
       "                        3251750.0 1401000.0  46.823708  -52.927433        0   \n",
       "                                  1400000.0  46.815750  -52.934769        0   \n",
       "                                  1399000.0  46.807793  -52.942104        0   \n",
       "                                  1398000.0  46.799831  -52.949436        0   \n",
       "                                  1397000.0  46.791874  -52.956768        0   \n",
       "                                  1396000.0  46.783913  -52.964096        0   \n",
       "                                  1395000.0  46.775955  -52.971424        0   \n",
       "                                  1394000.0  46.767994  -52.978748        0   \n",
       "                                  1393000.0  46.760033  -52.986073        0   \n",
       "                                  1392000.0  46.752071  -52.993393        0   \n",
       "                                  1385000.0  46.696323  -53.044579        0   \n",
       "                                  1384000.0  46.688358  -53.051884        0   \n",
       "                                  1383000.0  46.680393  -53.059189        0   \n",
       "                                  1382000.0  46.672424  -53.066486        0   \n",
       "                                  1381000.0  46.664459  -53.073788        0   \n",
       "                                  1380000.0  46.656490  -53.081081        0   \n",
       "                                  1379000.0  46.648521  -53.088375        0   \n",
       "                                  1378000.0  46.640553  -53.095669        0   \n",
       "                                  1377000.0  46.632584  -53.102959        0   \n",
       "                        3252750.0 1397000.0  46.786839  -52.945183        0   \n",
       "                                  1396000.0  46.778881  -52.952511        0   \n",
       "                                  1394000.0  46.762962  -52.967163        0   \n",
       "                                  1381000.0  46.659435  -53.062214        0   \n",
       "\n",
       "                                             time_bnds  \\\n",
       "nv time                x          y                      \n",
       "0  2010-01-01 12:00:00 -4560250.0 3268000.0 2010-01-01   \n",
       "                                  3267000.0 2010-01-01   \n",
       "                       -4559250.0 3270000.0 2010-01-01   \n",
       "                                  3269000.0 2010-01-01   \n",
       "                                  3268000.0 2010-01-01   \n",
       "                                  3267000.0 2010-01-01   \n",
       "                                  3266000.0 2010-01-01   \n",
       "                       -4558250.0 3270000.0 2010-01-01   \n",
       "                                  3269000.0 2010-01-01   \n",
       "                                  3268000.0 2010-01-01   \n",
       "                                  3267000.0 2010-01-01   \n",
       "                       -4557250.0 3271000.0 2010-01-01   \n",
       "                                  3270000.0 2010-01-01   \n",
       "                                  3269000.0 2010-01-01   \n",
       "                                  3268000.0 2010-01-01   \n",
       "                                  3267000.0 2010-01-01   \n",
       "                                  3266000.0 2010-01-01   \n",
       "                       -4556250.0 3273000.0 2010-01-01   \n",
       "                                  3272000.0 2010-01-01   \n",
       "                                  3271000.0 2010-01-01   \n",
       "                                  3270000.0 2010-01-01   \n",
       "                                  3269000.0 2010-01-01   \n",
       "                                  3268000.0 2010-01-01   \n",
       "                                  3267000.0 2010-01-01   \n",
       "                                  3266000.0 2010-01-01   \n",
       "                       -4555250.0 3273000.0 2010-01-01   \n",
       "                                  3272000.0 2010-01-01   \n",
       "                                  3271000.0 2010-01-01   \n",
       "                                  3270000.0 2010-01-01   \n",
       "                                  3269000.0 2010-01-01   \n",
       "...                                                ...   \n",
       "1  2010-01-01 12:00:00  3250750.0 1382000.0 2010-01-02   \n",
       "                                  1381000.0 2010-01-02   \n",
       "                                  1380000.0 2010-01-02   \n",
       "                                  1379000.0 2010-01-02   \n",
       "                                  1378000.0 2010-01-02   \n",
       "                                  1377000.0 2010-01-02   \n",
       "                                  1376000.0 2010-01-02   \n",
       "                        3251750.0 1401000.0 2010-01-02   \n",
       "                                  1400000.0 2010-01-02   \n",
       "                                  1399000.0 2010-01-02   \n",
       "                                  1398000.0 2010-01-02   \n",
       "                                  1397000.0 2010-01-02   \n",
       "                                  1396000.0 2010-01-02   \n",
       "                                  1395000.0 2010-01-02   \n",
       "                                  1394000.0 2010-01-02   \n",
       "                                  1393000.0 2010-01-02   \n",
       "                                  1392000.0 2010-01-02   \n",
       "                                  1385000.0 2010-01-02   \n",
       "                                  1384000.0 2010-01-02   \n",
       "                                  1383000.0 2010-01-02   \n",
       "                                  1382000.0 2010-01-02   \n",
       "                                  1381000.0 2010-01-02   \n",
       "                                  1380000.0 2010-01-02   \n",
       "                                  1379000.0 2010-01-02   \n",
       "                                  1378000.0 2010-01-02   \n",
       "                                  1377000.0 2010-01-02   \n",
       "                        3252750.0 1397000.0 2010-01-02   \n",
       "                                  1396000.0 2010-01-02   \n",
       "                                  1394000.0 2010-01-02   \n",
       "                                  1381000.0 2010-01-02   \n",
       "\n",
       "                                             lambert_conformal_conic  tmax  \n",
       "nv time                x          y                                         \n",
       "0  2010-01-01 12:00:00 -4560250.0 3268000.0                   -32767  12.0  \n",
       "                                  3267000.0                   -32767  12.0  \n",
       "                       -4559250.0 3270000.0                   -32767  12.0  \n",
       "                                  3269000.0                   -32767  12.0  \n",
       "                                  3268000.0                   -32767  12.0  \n",
       "                                  3267000.0                   -32767  12.0  \n",
       "                                  3266000.0                   -32767  12.0  \n",
       "                       -4558250.0 3270000.0                   -32767  12.0  \n",
       "                                  3269000.0                   -32767  12.0  \n",
       "                                  3268000.0                   -32767  12.5  \n",
       "                                  3267000.0                   -32767  12.0  \n",
       "                       -4557250.0 3271000.0                   -32767  12.0  \n",
       "                                  3270000.0                   -32767  12.0  \n",
       "                                  3269000.0                   -32767  12.5  \n",
       "                                  3268000.0                   -32767  12.5  \n",
       "                                  3267000.0                   -32767  12.0  \n",
       "                                  3266000.0                   -32767  12.0  \n",
       "                       -4556250.0 3273000.0                   -32767  12.0  \n",
       "                                  3272000.0                   -32767  12.0  \n",
       "                                  3271000.0                   -32767  12.0  \n",
       "                                  3270000.0                   -32767  12.5  \n",
       "                                  3269000.0                   -32767  12.5  \n",
       "                                  3268000.0                   -32767  12.5  \n",
       "                                  3267000.0                   -32767  12.0  \n",
       "                                  3266000.0                   -32767  12.0  \n",
       "                       -4555250.0 3273000.0                   -32767  12.0  \n",
       "                                  3272000.0                   -32767  12.5  \n",
       "                                  3271000.0                   -32767  12.5  \n",
       "                                  3270000.0                   -32767  12.5  \n",
       "                                  3269000.0                   -32767  12.5  \n",
       "...                                                              ...   ...  \n",
       "1  2010-01-01 12:00:00  3250750.0 1382000.0                   -32767   4.0  \n",
       "                                  1381000.0                   -32767   4.0  \n",
       "                                  1380000.0                   -32767   4.0  \n",
       "                                  1379000.0                   -32767   4.0  \n",
       "                                  1378000.0                   -32767   4.0  \n",
       "                                  1377000.0                   -32767   4.0  \n",
       "                                  1376000.0                   -32767   4.0  \n",
       "                        3251750.0 1401000.0                   -32767   4.0  \n",
       "                                  1400000.0                   -32767   4.0  \n",
       "                                  1399000.0                   -32767   4.0  \n",
       "                                  1398000.0                   -32767   4.0  \n",
       "                                  1397000.0                   -32767   3.5  \n",
       "                                  1396000.0                   -32767   4.0  \n",
       "                                  1395000.0                   -32767   4.0  \n",
       "                                  1394000.0                   -32767   4.0  \n",
       "                                  1393000.0                   -32767   4.0  \n",
       "                                  1392000.0                   -32767   4.0  \n",
       "                                  1385000.0                   -32767   4.0  \n",
       "                                  1384000.0                   -32767   4.0  \n",
       "                                  1383000.0                   -32767   4.0  \n",
       "                                  1382000.0                   -32767   4.0  \n",
       "                                  1381000.0                   -32767   4.0  \n",
       "                                  1380000.0                   -32767   4.0  \n",
       "                                  1379000.0                   -32767   4.0  \n",
       "                                  1378000.0                   -32767   4.0  \n",
       "                                  1377000.0                   -32767   4.0  \n",
       "                        3252750.0 1397000.0                   -32767   4.5  \n",
       "                                  1396000.0                   -32767   4.0  \n",
       "                                  1394000.0                   -32767   4.5  \n",
       "                                  1381000.0                   -32767   4.0  \n",
       "\n",
       "[43106664 rows x 6 columns]>"
      ]
     },
     "execution_count": 29,
     "metadata": {},
     "output_type": "execute_result"
    }
   ],
   "source": [
    "#counting the number of nulls\n",
    "df_no_nulls.count"
   ]
  },
  {
   "cell_type": "code",
   "execution_count": 30,
   "metadata": {},
   "outputs": [],
   "source": [
    "#saving first 100 records of the data frame without null values\n",
    "df_no_nulls.head(100).to_csv('netcdf_first_100_records.csv')"
   ]
  },
  {
   "cell_type": "code",
   "execution_count": null,
   "metadata": {},
   "outputs": [],
   "source": []
  }
 ],
 "metadata": {
  "kernelspec": {
   "display_name": "Python 3",
   "language": "python",
   "name": "python3"
  },
  "language_info": {
   "codemirror_mode": {
    "name": "ipython",
    "version": 3
   },
   "file_extension": ".py",
   "mimetype": "text/x-python",
   "name": "python",
   "nbconvert_exporter": "python",
   "pygments_lexer": "ipython3",
   "version": "3.7.3"
  }
 },
 "nbformat": 4,
 "nbformat_minor": 2
}
